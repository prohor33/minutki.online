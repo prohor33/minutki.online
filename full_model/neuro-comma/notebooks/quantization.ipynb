{
 "cells": [
  {
   "cell_type": "code",
   "execution_count": 1,
   "metadata": {},
   "outputs": [],
   "source": [
    "import sys\n",
    "\n",
    "sys.path.insert(0, '../src')"
   ]
  },
  {
   "cell_type": "code",
   "execution_count": 2,
   "metadata": {},
   "outputs": [],
   "source": [
    "from pathlib import Path\n",
    "\n",
    "import torch\n",
    "\n",
    "from neuro_comma.predict import RepunctPredictor\n",
    "from neuro_comma.model import CorrectionModel"
   ]
  },
  {
   "cell_type": "code",
   "execution_count": 3,
   "metadata": {},
   "outputs": [
    {
     "data": {
      "application/vnd.jupyter.widget-view+json": {
       "model_id": "31dd6b2010e24834bee265a02b5eb50e",
       "version_major": 2,
       "version_minor": 0
      },
      "text/plain": [
       "Downloading:   0%|          | 0.00/642 [00:00<?, ?B/s]"
      ]
     },
     "metadata": {},
     "output_type": "display_data"
    },
    {
     "data": {
      "application/vnd.jupyter.widget-view+json": {
       "model_id": "21310099d4f64e93bd5d8acf3b36962d",
       "version_major": 2,
       "version_minor": 0
      },
      "text/plain": [
       "Downloading:   0%|          | 0.00/711M [00:00<?, ?B/s]"
      ]
     },
     "metadata": {},
     "output_type": "display_data"
    }
   ],
   "source": [
    "model = CorrectionModel(\n",
    "    pretrained_model=\"DeepPavlov/rubert-base-cased-sentence\",\n",
    "    targets={\n",
    "        \"O\": 0,\n",
    "        \"COMMA\": 1,\n",
    "        \"PERIOD\": 2\n",
    "    }\n",
    ")"
   ]
  },
  {
   "cell_type": "code",
   "execution_count": 6,
   "metadata": {},
   "outputs": [],
   "source": [
    "model.load('../../repunct-model-new/weights/weights_ep6_9912.pt', map_location=\"cuda:1\")"
   ]
  },
  {
   "cell_type": "code",
   "execution_count": 6,
   "metadata": {},
   "outputs": [],
   "source": [
    "quantized_model = model.quantize()"
   ]
  },
  {
   "cell_type": "code",
   "execution_count": 14,
   "metadata": {},
   "outputs": [
    {
     "data": {
      "text/plain": [
       "'Я расскажу о своем pet project библиотеки для уменьшения моделей, compressors, библиотека является некоторой надстройкой над catalyst, однако допускает использования своих train loop-ов, для применения библиотеки требуется лишь изменить forward моделей, а потому нет никакой привязки к домену, использования/архитектуре, конвертация тоже не нужна, хочется заметить, что библиотека ортогональна к использованию различных специализированных библиотека типа onnx, OpenVINO и так далее'"
      ]
     },
     "execution_count": 14,
     "metadata": {},
     "output_type": "execute_result"
    }
   ],
   "source": [
    "quantized_model.save('../models/repunct-model-new/weights/quantized_weights_ep6_9912.pt')"
   ]
  },
  {
   "cell_type": "code",
   "execution_count": 3,
   "metadata": {},
   "outputs": [
    {
     "data": {
      "application/vnd.jupyter.widget-view+json": {
       "model_id": "bf3f4ecee4c94b72a0fe9cbf8fa8379f",
       "version_major": 2,
       "version_minor": 0
      },
      "text/plain": [
       "Downloading:   0%|          | 0.00/1.65M [00:00<?, ?B/s]"
      ]
     },
     "metadata": {},
     "output_type": "display_data"
    },
    {
     "data": {
      "application/vnd.jupyter.widget-view+json": {
       "model_id": "7e22477aac64422da1d3f9ae79cfe67f",
       "version_major": 2,
       "version_minor": 0
      },
      "text/plain": [
       "Downloading:   0%|          | 0.00/112 [00:00<?, ?B/s]"
      ]
     },
     "metadata": {},
     "output_type": "display_data"
    },
    {
     "data": {
      "application/vnd.jupyter.widget-view+json": {
       "model_id": "c2617d778a914e7c8d79f5877e7ec0f8",
       "version_major": 2,
       "version_minor": 0
      },
      "text/plain": [
       "Downloading:   0%|          | 0.00/24.0 [00:00<?, ?B/s]"
      ]
     },
     "metadata": {},
     "output_type": "display_data"
    }
   ],
   "source": [
    "predictor = RepunctPredictor(model_name='repunct-model-new',\n",
    "                             models_root=Path('../../'),\n",
    "                             model_weights='weights_ep6_9912.pt',\n",
    "                             quantization=False,\n",
    "                             device=\"cuda:1\"\n",
    "                            )"
   ]
  },
  {
   "cell_type": "code",
   "execution_count": 4,
   "metadata": {},
   "outputs": [
    {
     "data": {
      "text/plain": [
       "'Показатели давления могут изменяться в зависимости от ряда факторов. Даже у одного и того же пациента в течение суток наблюдаются колебания АД Например, утром после пробуждения кровяное давление может быть низким, после обеда оно может начать подниматься.'"
      ]
     },
     "execution_count": 4,
     "metadata": {},
     "output_type": "execute_result"
    }
   ],
   "source": [
    "text = (\"Показатели давления могут изменяться в зависимости от ряда факторов \"\n",
    "\"Даже у одного и того же пациента в течение суток наблюдаются колебания АД \"\n",
    "\"Например утром после пробуждения кровяное давление может быть низким \"\n",
    "\"после обеда оно может начать подниматься\")\n",
    "\n",
    "predictor(text)"
   ]
  },
  {
   "cell_type": "code",
   "execution_count": 6,
   "metadata": {},
   "outputs": [],
   "source": [
    "my_text = open(\"../../3.txt\").read()"
   ]
  },
  {
   "cell_type": "code",
   "execution_count": 11,
   "metadata": {},
   "outputs": [
    {
     "data": {
      "text/plain": [
       "'владелец системы гудкова екатерина крайне против, во-первых, она крайне против чего она крайне против того, чтобы формат ввода плановых данных отличался от формата ввода вот и моделей, которое сейчас все условно пользуются, поэтому она говорит, что ко мне в систему напрямую ничего подавать не будет, кроме как вы из вот этой модели, у меня в системе предусмотрено два момента два способа ввода данных, первый способ ввода данных, это у нас только вот эта модель фэн которое, как я говорил, имеет тонкости в части макарьевской настройки и тонкостей в части пассажей актуализации в процессе бюджетированию, то есть в момент бюджетной кампании, зачастую, но я приводил примеры, она прям очень активно меняется, а второй вариант в формата подачи данных в систему о плановых плановых данные да, то есть у моделей бюджета это непосредственно ввод данных в саму систему, то есть разработаны видеоотчёты, которые в принципе, пап повторяет структуру вот этого листа, модель лезть, за исключением справочников, там есть отдельные листы со справочниками в видах отчёта, этого нету в спида, то есть вы можете просто какая-то чёрт заполнить его реквизит, потому что он организация блаблабла период там сценарий и вбивать данные систему, поэтому что касается формата ввода плановых данных из какой-либо системы в систему спит, это вот только либо эксель, пусть он просто либо он перекладывает в эту моделей готова, либо передвижения, компания моделей в своём развиваете всем и в этой системе макрос, она быстренько выходная форма, переписываться под вот этой и этой церкви, и для тебя входящим, да и второй вариант это банально резерв двух окон в одном окне смотрим в другое окно вводим непосредственно данные этой что касается формата и способа подачи плановых данных, систему льстит, что касается подачи фактических данных на текущий момент, происходит перегруз обратно саду ведомостей фактических, то есть сперва из финансовых систем данные подаются в консолидацию, в консолидации происходит проверка, после этого данные перегружать спит, поэтому способ'"
      ]
     },
     "execution_count": 11,
     "metadata": {},
     "output_type": "execute_result"
    }
   ],
   "source": [
    "predictor(my_text[:2000])"
   ]
  },
  {
   "cell_type": "code",
   "execution_count": 14,
   "metadata": {},
   "outputs": [],
   "source": [
    "test_text = \"\"\"она переключила внимание на развивающийся прогулочный рынок состоящий \n",
    "          из семей с независимым доходом думаю что поскольку теперь семьи \n",
    "          живут не так близко как прежде\"\"\""
   ]
  },
  {
   "cell_type": "code",
   "execution_count": 15,
   "metadata": {},
   "outputs": [
    {
     "data": {
      "text/plain": [
       "'она переключила внимание на развивающийся прогулочный рынок, состоящий из семей с независимым доходом. думаю, что поскольку теперь семьи живут не так близко, как прежде,'"
      ]
     },
     "execution_count": 15,
     "metadata": {},
     "output_type": "execute_result"
    }
   ],
   "source": [
    "predictor(test_text)"
   ]
  },
  {
   "cell_type": "code",
   "execution_count": null,
   "metadata": {},
   "outputs": [],
   "source": []
  }
 ],
 "metadata": {
  "interpreter": {
   "hash": "0f6647ac222ee8180da4b9f4daf24da456a5df3bc659c190f01c4ac62564739c"
  },
  "kernelspec": {
   "display_name": "Python 3",
   "language": "python",
   "name": "python3"
  },
  "language_info": {
   "codemirror_mode": {
    "name": "ipython",
    "version": 3
   },
   "file_extension": ".py",
   "mimetype": "text/x-python",
   "name": "python",
   "nbconvert_exporter": "python",
   "pygments_lexer": "ipython3",
   "version": "3.8.10"
  }
 },
 "nbformat": 4,
 "nbformat_minor": 2
}
